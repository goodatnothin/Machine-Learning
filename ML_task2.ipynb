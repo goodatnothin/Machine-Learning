{
  "nbformat": 4,
  "nbformat_minor": 0,
  "metadata": {
    "colab": {
      "name": "ML_task2.ipynb",
      "provenance": [],
      "authorship_tag": "ABX9TyM3HLsD0Ph4AwAB57D/WhON",
      "include_colab_link": true
    },
    "kernelspec": {
      "name": "python3",
      "display_name": "Python 3"
    }
  },
  "cells": [
    {
      "cell_type": "markdown",
      "metadata": {
        "id": "view-in-github",
        "colab_type": "text"
      },
      "source": [
        "<a href=\"https://colab.research.google.com/github/goodatnothin/Machine-Learning/blob/ML-task-2/ML_task2.ipynb\" target=\"_parent\"><img src=\"https://colab.research.google.com/assets/colab-badge.svg\" alt=\"Open In Colab\"/></a>"
      ]
    },
    {
      "cell_type": "code",
      "metadata": {
        "id": "OlQPmwBvdjZK"
      },
      "source": [
        "import numpy as np\n",
        "from matplotlib import pyplot as plt"
      ],
      "execution_count": 1,
      "outputs": []
    },
    {
      "cell_type": "code",
      "metadata": {
        "colab": {
          "base_uri": "https://localhost:8080/",
          "height": 295
        },
        "id": "IWe5FrjOdnrP",
        "outputId": "06e3e69e-050f-4c4f-d2b7-d8e40104f1b5"
      },
      "source": [
        "\n",
        "x = [1, 2, 3]\n",
        "y = [1.2, 1.9, 3.2]\n",
        "plt.plot(x, y, 'ro')\n",
        "plt.title(\"Distribution\")\n",
        "plt.xlabel(\"X\")\n",
        "plt.ylabel(\"Y\")\n",
        "plt.savefig(\"distribution\")"
      ],
      "execution_count": 2,
      "outputs": [
        {
          "output_type": "display_data",
          "data": {
            "image/png": "[encoded data removed]",
            "text/plain": [
              "<Figure size 432x288 with 1 Axes>"
            ]
          },
          "metadata": {
            "tags": [],
            "needs_background": "light"
          }
        }
      ]
    },
    {
      "cell_type": "code",
      "metadata": {
        "colab": {
          "base_uri": "https://localhost:8080/",
          "height": 295
        },
        "id": "d4Od35cGd0vE",
        "outputId": "5ddfdc8d-23a5-452f-882b-2399c5affa2a"
      },
      "source": [
        "def fit(x, y):\n",
        "    n = len(x)\n",
        "\n",
        "    x_mean = sum(x)/n\n",
        "    y_mean = sum(y)/n\n",
        "\n",
        "    num = 0\n",
        "    denom = 0\n",
        "    for i in range(n):\n",
        "        num += (x[i] - x_mean)*(y[i] - y_mean)\n",
        "        denom += (x[i] - x_mean)**2\n",
        "\n",
        "    slope = num/denom\n",
        "    intercept = y_mean - slope*x_mean\n",
        "    return slope, intercept\n",
        "m, c = fit(x, y)\n",
        "x = np.array(x)\n",
        "y = np.array(y)\n",
        "plt.plot(x, m*x + c)\n",
        "plt.plot(x, y, 'bo')\n",
        "plt.title(\"Best fit\")\n",
        "plt.xlabel(\"X\")\n",
        "plt.ylabel(\"Y\")\n",
        "plt.savefig(\"best_fit\")"
      ],
      "execution_count": 5,
      "outputs": [
        {
          "output_type": "display_data",
          "data": {
            "image/png": "[encoded data removed]",
            "text/plain": [
              "<Figure size 432x288 with 1 Axes>"
            ]
          },
          "metadata": {
            "tags": [],
            "needs_background": "light"
          }
        }
      ]
    },
    {
      "cell_type": "code",
      "metadata": {
        "id": "PWXBcjkJeBGn"
      },
      "source": [
        ""
      ],
      "execution_count": null,
      "outputs": []
    }
  ]
}